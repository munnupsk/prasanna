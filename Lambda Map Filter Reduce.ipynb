{
 "cells": [
  {
   "cell_type": "code",
   "execution_count": 6,
   "metadata": {},
   "outputs": [
    {
     "name": "stdout",
     "output_type": "stream",
     "text": [
      "Prasanna\n"
     ]
    }
   ],
   "source": [
    "li=\"   PRASANNA\"\n",
    "print(li.strip().title())"
   ]
  },
  {
   "cell_type": "markdown",
   "metadata": {},
   "source": [
    "# Lambda expressions"
   ]
  },
  {
   "cell_type": "code",
   "execution_count": 8,
   "metadata": {},
   "outputs": [
    {
     "data": {
      "text/plain": [
       "<function __main__.<lambda>(x)>"
      ]
     },
     "execution_count": 8,
     "metadata": {},
     "output_type": "execute_result"
    }
   ],
   "source": [
    "#lambda expressions are anonymous functions\n",
    "lambda x : 3(x)+2\n",
    "#lambda is a key word in python and it says it is an anonymous function\n",
    "#therefore we have to name the function\n"
   ]
  },
  {
   "cell_type": "code",
   "execution_count": 18,
   "metadata": {},
   "outputs": [
    {
     "name": "stdout",
     "output_type": "stream",
     "text": [
      "8\n"
     ]
    }
   ],
   "source": [
    "#lambda input : return\n",
    "f=lambda x :3*x+2\n",
    "print(f(2))\n"
   ]
  },
  {
   "cell_type": "code",
   "execution_count": 19,
   "metadata": {},
   "outputs": [
    {
     "name": "stdout",
     "output_type": "stream",
     "text": [
      "Prasanna Kumar\n"
     ]
    }
   ],
   "source": [
    "f=lambda firstname,lastname :firstname.strip().title()+\" \"+lastname.strip().title()\n",
    "print(f(\"prasanna\",\"  KUMAR\"))"
   ]
  },
  {
   "cell_type": "code",
   "execution_count": 20,
   "metadata": {},
   "outputs": [
    {
     "name": "stdout",
     "output_type": "stream",
     "text": [
      "<function build_quadratic_expression.<locals>.<lambda> at 0x000002682743C7B8>\n"
     ]
    }
   ],
   "source": [
    "def build_quadratic_expression(a,b,c):\n",
    "    return lambda x : a*x**2+b*x+c\n",
    "print(build_quadratic_expression(2,3,4))"
   ]
  },
  {
   "cell_type": "code",
   "execution_count": 21,
   "metadata": {},
   "outputs": [
    {
     "data": {
      "text/plain": [
       "18"
      ]
     },
     "execution_count": 21,
     "metadata": {},
     "output_type": "execute_result"
    }
   ],
   "source": [
    "def build_quadratic_expression(a,b,c):\n",
    "    return lambda x : a*x**2+b*x+c\n",
    "f=build_quadratic_expression(2,3,4)\n",
    "f(2)"
   ]
  },
  {
   "cell_type": "markdown",
   "metadata": {},
   "source": [
    "# Map"
   ]
  },
  {
   "cell_type": "code",
   "execution_count": 23,
   "metadata": {},
   "outputs": [
    {
     "name": "stdout",
     "output_type": "stream",
     "text": [
      "[12.56, 28.26, 113.04, 78.5]\n"
     ]
    }
   ],
   "source": [
    "def area(r):\n",
    "    return 3.14*r**2\n",
    "radii=[2,3,6,5]\n",
    "li=map(area,radii)\n",
    "print(list(li))"
   ]
  },
  {
   "cell_type": "code",
   "execution_count": 28,
   "metadata": {},
   "outputs": [
    {
     "data": {
      "text/plain": [
       "[('Hyderabad', 111.2),\n",
       " ('Chennai', 118.4),\n",
       " ('Mumbai', 104.0),\n",
       " ('Banglore', 95.0),\n",
       " ('New Delhi', 114.8)]"
      ]
     },
     "execution_count": 28,
     "metadata": {},
     "output_type": "execute_result"
    }
   ],
   "source": [
    "#convert temperature to celicius\n",
    "temps=[(\"Hyderabad\",44),(\"Chennai\",48),(\"Mumbai\",40),(\"Banglore\",35),(\"New Delhi\",46)]\n",
    "celicius=lambda data:(data[0],(9/5)*data[1]+32)\n",
    "list(map(celicius,temps))\n"
   ]
  },
  {
   "cell_type": "markdown",
   "metadata": {},
   "source": [
    "# Filter"
   ]
  },
  {
   "cell_type": "code",
   "execution_count": 35,
   "metadata": {},
   "outputs": [
    {
     "name": "stdout",
     "output_type": "stream",
     "text": [
      "[8, 9, 10]\n",
      "[5, 3, 1]\n"
     ]
    }
   ],
   "source": [
    "import statistics\n",
    "li=[5,3,8,9,1,10]\n",
    "avg=statistics.mean(li)\n",
    "list1=list(filter(lambda x :x if x>avg else None,li))\n",
    "print(list1)\n",
    "list2=list(filter(lambda x :x if x<avg else None,li))\n",
    "print(list2)"
   ]
  },
  {
   "cell_type": "code",
   "execution_count": 36,
   "metadata": {},
   "outputs": [
    {
     "name": "stdout",
     "output_type": "stream",
     "text": [
      "['Shalini', 'Malini', 'Naresh', 'Mahesh']\n"
     ]
    }
   ],
   "source": [
    "names=[\"\",\"Shalini\",\"Malini\",\"Naresh\",\"\",\"Mahesh\",\"\"]\n",
    "li=list(filter(None,names))\n",
    "print(li)\n"
   ]
  },
  {
   "cell_type": "markdown",
   "metadata": {},
   "source": [
    "# Reduce"
   ]
  },
  {
   "cell_type": "code",
   "execution_count": 37,
   "metadata": {},
   "outputs": [
    {
     "name": "stdout",
     "output_type": "stream",
     "text": [
      "11741730\n"
     ]
    }
   ],
   "source": [
    "# multiply the list of prime numbers\n",
    "li=[2,3,5,7,11,13,17,23]\n",
    "product=1\n",
    "for i in li:\n",
    "    product=product*i\n",
    "print(product)"
   ]
  },
  {
   "cell_type": "code",
   "execution_count": 38,
   "metadata": {},
   "outputs": [
    {
     "data": {
      "text/plain": [
       "11741730"
      ]
     },
     "execution_count": 38,
     "metadata": {},
     "output_type": "execute_result"
    }
   ],
   "source": [
    "#by using reduce\n",
    "from functools import reduce\n",
    "li=[2,3,5,7,11,13,17,23]\n",
    "multiplier=lambda x,y:x*y\n",
    "reduce(multiplier,li)"
   ]
  },
  {
   "cell_type": "code",
   "execution_count": null,
   "metadata": {},
   "outputs": [],
   "source": []
  }
 ],
 "metadata": {
  "kernelspec": {
   "display_name": "Python 3",
   "language": "python",
   "name": "python3"
  },
  "language_info": {
   "codemirror_mode": {
    "name": "ipython",
    "version": 3
   },
   "file_extension": ".py",
   "mimetype": "text/x-python",
   "name": "python",
   "nbconvert_exporter": "python",
   "pygments_lexer": "ipython3",
   "version": "3.7.3"
  }
 },
 "nbformat": 4,
 "nbformat_minor": 2
}
